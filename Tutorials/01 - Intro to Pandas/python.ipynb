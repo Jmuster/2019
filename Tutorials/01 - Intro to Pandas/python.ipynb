{
 "cells": [
  {
   "cell_type": "markdown",
   "metadata": {},
   "source": [
    "# Usefull\n",
    "\n",
    "#### Libraries: \n",
    "* Pandas\n",
    "* Seaborn\n",
    "* Mathplotlib\n",
    "* Numpy\n",
    "* Beautiful soup\n",
    "* Requests"
   ]
  },
  {
   "cell_type": "markdown",
   "metadata": {},
   "source": [
    "#### Python tricks:\n",
    "\n",
    "* long lines can be split either using parenthesis, brackets... or by ending the line with \\\n",
    "* multiple line strings can be written using triple quote: \"\"\"_______\"\"\"\n",
    "* unpacking: unpacking can be used to assign values of an array to different variables or to switch variables"
   ]
  },
  {
   "cell_type": "code",
   "execution_count": 12,
   "metadata": {},
   "outputs": [
    {
     "name": "stdout",
     "output_type": "stream",
     "text": [
      "10 5\n",
      "5 10\n",
      "Julien 0798103237 Chemin de Veilloud 60\n"
     ]
    }
   ],
   "source": [
    "a=10\n",
    "b=5\n",
    "print(a,b)\n",
    "a,b=b,a\n",
    "print(a,b)\n",
    "phonebookEntry={'Name':'Julien','Phone Number':'0798103237','Address':'Chemin de Veilloud 60'}\n",
    "name,phone,address=phonebookEntry.values()\n",
    "print(name,phone,address)"
   ]
  },
  {
   "cell_type": "markdown",
   "metadata": {},
   "source": [
    "* Building strings efficiently: use join()"
   ]
  },
  {
   "cell_type": "code",
   "execution_count": 15,
   "metadata": {},
   "outputs": [
    {
     "name": "stdout",
     "output_type": "stream",
     "text": [
      "voici une phrase\n"
     ]
    }
   ],
   "source": [
    "strings=['voici','une','phrase']\n",
    "print(' '.join(strings))"
   ]
  },
  {
   "cell_type": "markdown",
   "metadata": {},
   "source": [
    "Dictionnaries:\n",
    "* get ( _Key_, _DefaultValue_ )\n",
    "* setdefault ( _Key_, _Value_ )\n",
    "* zip ( _list 1_, _list 2_ ) : Usefull for building dictionnaries from two lists\n",
    "\n",
    "Index and items:\n",
    "* list ( enumerate( _list_ ) )"
   ]
  },
  {
   "cell_type": "code",
   "execution_count": null,
   "metadata": {},
   "outputs": [],
   "source": []
  }
 ],
 "metadata": {
  "kernelspec": {
   "display_name": "Python 3",
   "language": "python",
   "name": "python3"
  },
  "language_info": {
   "codemirror_mode": {
    "name": "ipython",
    "version": 3
   },
   "file_extension": ".py",
   "mimetype": "text/x-python",
   "name": "python",
   "nbconvert_exporter": "python",
   "pygments_lexer": "ipython3",
   "version": "3.7.4"
  }
 },
 "nbformat": 4,
 "nbformat_minor": 4
}
